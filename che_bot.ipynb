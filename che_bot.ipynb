{
 "cells": [
  {
   "cell_type": "code",
   "execution_count": 84,
   "metadata": {},
   "outputs": [],
   "source": [
    "import numpy as np\n",
    "#import pywikiapi\n",
    "from pywikiapi import Site\n",
    "import pandas as pd"
   ]
  },
  {
   "cell_type": "code",
   "execution_count": 85,
   "metadata": {},
   "outputs": [],
   "source": [
    "user= 'Zouaoui@Che'\n",
    "password='c6thfl7oqrpgrlbpp2oa151jt6vl2mck'"
   ]
  },
  {
   "cell_type": "code",
   "execution_count": 86,
   "metadata": {},
   "outputs": [],
   "source": [
    "site= Site('http://wikipast.epfl.ch/wikipast/api.php')\n",
    "site.no_ssl = True #remove https\n",
    "site.login(user, password) #to log in"
   ]
  },
  {
   "cell_type": "code",
   "execution_count": 87,
   "metadata": {},
   "outputs": [],
   "source": [
    "def create_page(name):\n",
    "    site('edit', title=name,text='',token=site.token(),createonly=True)"
   ]
  },
  {
   "cell_type": "code",
   "execution_count": 127,
   "metadata": {},
   "outputs": [],
   "source": [
    "def add_event(title,name, date, place, event, source):\n",
    "    text= f'\\n* [[{date}]] / {event}. [[{source}]] <br />\\n'\n",
    "    site('edit', title=title, appendtext=text,token=site.token())"
   ]
  },
  {
   "cell_type": "code",
   "execution_count": 89,
   "metadata": {},
   "outputs": [],
   "source": [
    "def edit_page(name,edition):\n",
    "    site('edit', title=name, appendtext=edition,token=site.token())\n"
   ]
  },
  {
   "cell_type": "code",
   "execution_count": 90,
   "metadata": {},
   "outputs": [],
   "source": [
    "def clear_page(name):\n",
    "    site('edit', title=name, text='', token=site.token())"
   ]
  },
  {
   "cell_type": "code",
   "execution_count": 91,
   "metadata": {},
   "outputs": [],
   "source": [
    "def new_section(page_name, section_number,section_name,text):\n",
    "    site('edit', title=page_name, section=section_number ,sectiontitle=section_name,appendtext=text, token=site.token())"
   ]
  },
  {
   "cell_type": "code",
   "execution_count": null,
   "outputs": [],
   "source": [
    "def get_wiki_text(page, section=None):\n",
    "    result=site('parse', page=page, prop=['wikitext'], section=section)\n",
    "    return result['parse']['wikitext']\n",
    "\n",
    "def get_sections(page):\n",
    "    result=site('parse', page=page, prop=['sections'])\n",
    "    return result['parse']['sections']\n",
    "    "
   ],
   "metadata": {
    "collapsed": false,
    "pycharm": {
     "name": "#%%\n"
    }
   }
  },
  {
   "cell_type": "code",
   "execution_count": null,
   "outputs": [],
   "source": [
    "#constant indexes to be changed later\n",
    "NAME=0\n",
    "JOB=1\n",
    "STREET=2\n",
    "NUMBER=3\n",
    "\n",
    "def input_character(data_bottin):\n",
    "    create_page(data_bottin[NAME])\n",
    "    #add_event(data_bottin[NAME],data_bottin[NAME],data_bottin[YEAR]),\n",
    "        "
   ],
   "metadata": {
    "collapsed": false,
    "pycharm": {
     "name": "#%%\n"
    }
   }
  },
  {
   "cell_type": "code",
   "execution_count": null,
   "outputs": [],
   "source": [
    "def create_table(page_name):\n",
    "    text=\"\"\"{| class=\"wikitable\"|Langue |'''Français'''|[[(en)_Wikidataficator|English]]|}\"\"\"\n",
    "    edit_page=(page_name,text)"
   ],
   "metadata": {
    "collapsed": false,
    "pycharm": {
     "name": "#%%\n"
    }
   }
  },
  {
   "cell_type": "code",
   "execution_count": null,
   "outputs": [],
   "source": [
    "create_page('test')"
   ],
   "metadata": {
    "collapsed": false,
    "pycharm": {
     "name": "#%%\n"
    }
   }
  },
  {
   "cell_type": "code",
   "execution_count": null,
   "outputs": [],
   "source": [
    "edit_page('test',\" And skip a line \\n\" )"
   ],
   "metadata": {
    "collapsed": false,
    "pycharm": {
     "name": "#%%\n"
    }
   }
  },
  {
   "cell_type": "code",
   "execution_count": null,
   "outputs": [],
   "source": [
    "add_event('test','Zouaoui',1998,'Casablanca','born in',\"Casablanca\")"
   ],
   "metadata": {
    "collapsed": false,
    "pycharm": {
     "name": "#%%\n"
    }
   }
  },
  {
   "cell_type": "code",
   "execution_count": null,
   "outputs": [],
   "source": [
    "add_event('test','Zouaoui',2016,'Lausanne','moved to','Lausanne')"
   ],
   "metadata": {
    "collapsed": false,
    "pycharm": {
     "name": "#%%\n"
    }
   }
  },
  {
   "cell_type": "code",
   "execution_count": null,
   "outputs": [],
   "source": [
    "clear_page('test')"
   ],
   "metadata": {
    "collapsed": false,
    "pycharm": {
     "name": "#%%\n"
    }
   }
  },
  {
   "cell_type": "code",
   "execution_count": null,
   "outputs": [],
   "source": [
    "new_section('test', 0,\"Section\",\"==Biographie==\")"
   ],
   "metadata": {
    "collapsed": false,
    "pycharm": {
     "name": "#%%\n"
    }
   }
  },
  {
   "cell_type": "code",
   "execution_count": null,
   "outputs": [],
   "source": [
    "new_section('test',1,\"Next_section\",\"==Déménagement==\")"
   ],
   "metadata": {
    "collapsed": false,
    "pycharm": {
     "name": "#%%\n"
    }
   }
  },
  {
   "cell_type": "code",
   "execution_count": null,
   "outputs": [],
   "source": [
    "create_table('test')"
   ],
   "metadata": {
    "collapsed": false,
    "pycharm": {
     "name": "#%%\n"
    }
   }
  },
  {
   "cell_type": "code",
   "execution_count": 92,
   "metadata": {},
   "outputs": [],
   "source": [
    "create_table('test')"
   ]
  },
  {
   "cell_type": "code",
   "execution_count": 93,
   "metadata": {},
   "outputs": [],
   "source": [
    "#constant indexes to be changed later\n",
    "NAME=0\n",
    "JOB=1\n",
    "STREET=2\n",
    "NUMBER=3\n",
    "\n",
    "def input_character(data_bottin):\n",
    "    create_page(data_bottin[NAME])\n",
    "    #add_event(data_bottin[NAME],data_bottin[NAME],data_bottin[YEAR]),\n",
    "        "
   ]
  },
  {
   "cell_type": "code",
   "execution_count": 94,
   "metadata": {},
   "outputs": [],
   "source": [
    "def create_table(page_name):\n",
    "    text=\"\"\"{| class=\"wikitable\"|Langue |'''Français'''|[[(en)_Wikidataficator|English]]|}\"\"\"\n",
    "    edit_page=(page_name,text)"
   ]
  },
  {
   "cell_type": "code",
   "execution_count": 141,
   "metadata": {
    "pycharm": {
     "name": "#%%\n"
    }
   },
   "outputs": [],
   "source": [
    "create_page('test')"
   ]
  },
  {
   "cell_type": "code",
   "execution_count": 96,
   "metadata": {},
   "outputs": [],
   "source": [
    "edit_page('test',\" And skip a line \\n\" )"
   ]
  },
  {
   "cell_type": "code",
   "execution_count": 139,
   "metadata": {},
   "outputs": [],
   "source": [
    "add_event('test','Zouaoui',1998,'Casablanca','born in',\"Casablanca\")"
   ]
  },
  {
   "cell_type": "code",
   "execution_count": 140,
   "metadata": {},
   "outputs": [],
   "source": [
    "add_event('test','Zouaoui',2016,'Lausanne','moved to','Lausanne')"
   ]
  },
  {
   "cell_type": "code",
   "execution_count": 138,
   "metadata": {},
   "outputs": [],
   "source": [
    "clear_page('test')"
   ]
  },
  {
   "cell_type": "code",
   "execution_count": 114,
   "metadata": {},
   "outputs": [],
   "source": [
    "new_section('test', 0,\"Section\",\"==Biographie==\")"
   ]
  },
  {
   "cell_type": "code",
   "execution_count": 110,
   "metadata": {},
   "outputs": [],
   "source": [
    "new_section('test',1,\"Next_section\",\"==Déménagement==\")"
   ]
  },
  {
   "cell_type": "code",
   "execution_count": 27,
   "metadata": {},
   "outputs": [],
   "source": [
    "create_table('test')"
   ]
  }
 ],
 "metadata": {
  "kernelspec": {
   "display_name": "Python 3",
   "language": "python",
   "name": "python3"
  },
  "language_info": {
   "codemirror_mode": {
    "name": "ipython",
    "version": 3
   },
   "file_extension": ".py",
   "mimetype": "text/x-python",
   "name": "python",
   "nbconvert_exporter": "python",
   "pygments_lexer": "ipython3",
   "version": "3.7.4"
  },
  "pycharm": {
   "stem_cell": {
    "cell_type": "raw",
    "source": [],
    "metadata": {
     "collapsed": false
    }
   }
  }
 },
 "nbformat": 4,
 "nbformat_minor": 2
}